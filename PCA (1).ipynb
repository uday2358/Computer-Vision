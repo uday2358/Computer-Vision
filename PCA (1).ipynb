{
  "nbformat": 4,
  "nbformat_minor": 0,
  "metadata": {
    "colab": {
      "name": "PCA.ipynb",
      "provenance": [],
      "collapsed_sections": []
    },
    "kernelspec": {
      "display_name": "Python 3",
      "name": "python3"
    }
  },
  "cells": [
    {
      "cell_type": "code",
      "metadata": {
        "id": "YHR0yJuISEqK",
        "colab": {
          "base_uri": "https://localhost:8080/"
        },
        "outputId": "15ccfa59-7804-43c9-d59e-8fd5d8730e92"
      },
      "source": [
        "from google.colab import drive\n",
        "drive.mount('/content/drive')"
      ],
      "execution_count": 1,
      "outputs": [
        {
          "output_type": "stream",
          "text": [
            "Mounted at /content/drive\n"
          ],
          "name": "stdout"
        }
      ]
    },
    {
      "cell_type": "code",
      "metadata": {
        "id": "l7lXzZPpSBbl"
      },
      "source": [
        "import os\n",
        "import cv2\n",
        "\n",
        "\n",
        "os.chdir('/content/drive/MyDrive/Projects/PCA')"
      ],
      "execution_count": 75,
      "outputs": []
    },
    {
      "cell_type": "code",
      "metadata": {
        "id": "y18Io_vGSE-M",
        "colab": {
          "base_uri": "https://localhost:8080/"
        },
        "outputId": "d805c15e-d48d-40bf-f9cb-7a3b5b45f5b0"
      },
      "source": [
        "!unzip '/content/drive/MyDrive/Projects/PCA/cwang.zip'"
      ],
      "execution_count": 76,
      "outputs": [
        {
          "output_type": "stream",
          "text": [
            "Archive:  /content/drive/MyDrive/Projects/PCA/cwang.zip\n",
            "   creating: cwang/\n",
            "  inflating: cwang/cwang.1.jpg       \n",
            "  inflating: cwang/cwang.10.jpg      \n",
            "  inflating: cwang/cwang.11.jpg      \n",
            "  inflating: cwang/cwang.12.jpg      \n",
            "  inflating: cwang/cwang.13.jpg      \n",
            "  inflating: cwang/cwang.14.jpg      \n",
            "  inflating: cwang/cwang.15.jpg      \n",
            "  inflating: cwang/cwang.16.jpg      \n",
            "  inflating: cwang/cwang.17.jpg      \n",
            "  inflating: cwang/cwang.18.jpg      \n",
            "  inflating: cwang/cwang.19.jpg      \n",
            "  inflating: cwang/cwang.2.jpg       \n",
            "  inflating: cwang/cwang.20.jpg      \n",
            "  inflating: cwang/cwang.3.jpg       \n",
            "  inflating: cwang/cwang.4.jpg       \n",
            "  inflating: cwang/cwang.5.jpg       \n",
            "  inflating: cwang/cwang.6.jpg       \n",
            "  inflating: cwang/cwang.7.jpg       \n",
            "  inflating: cwang/cwang.8.jpg       \n",
            "  inflating: cwang/cwang.9.jpg       \n"
          ],
          "name": "stdout"
        }
      ]
    },
    {
      "cell_type": "code",
      "metadata": {
        "id": "KyxneHGXTQ4r"
      },
      "source": [
        "import cv2\n",
        "\n",
        "face_cascade = cv2.CascadeClassifier(cv2.data.haarcascades +'haarcascade_frontalface_default.xml')\n",
        "eye_cascade = cv2.CascadeClassifier(cv2.data.haarcascades +'haarcascade_eye.xml')\n"
      ],
      "execution_count": 77,
      "outputs": []
    },
    {
      "cell_type": "code",
      "metadata": {
        "id": "BKobARhFaOb7"
      },
      "source": [
        "import glob\n",
        "X = []\n",
        "Y = []\n",
        "\n",
        "for image in glob.glob('/content/drive/MyDrive/Projects/PCA/wnm/9336923/*.jpg'):\n",
        "  image = cv2.imread(image,0)\n",
        "  X.append(image)\n",
        "  Y.append(0)\n",
        "\n",
        "for image in glob.glob('/content/drive/MyDrive/Projects/PCA/wnm/ambarw/*.jpg'):\n",
        "  image = cv2.imread(image,0)\n",
        "  X.append(image)\n",
        "  Y.append(1)\n",
        "\n",
        "for image in glob.glob('/content/drive/MyDrive/Projects/PCA/wnm/anpage/*.jpg'):\n",
        "  image = cv2.imread(image,0)\n",
        "  X.append(image)\n",
        "  Y.append(2)\n",
        "\n",
        "for image in glob.glob('/content/drive/MyDrive/Projects/PCA/wnm/cwang/*.jpg'):\n",
        "  image = cv2.imread(image,0)\n",
        "  X.append(image)\n",
        "  Y.append(3)\n",
        "\n",
        "\n"
      ],
      "execution_count": 78,
      "outputs": []
    },
    {
      "cell_type": "code",
      "metadata": {
        "id": "Kx3qDqcYa4X4",
        "colab": {
          "base_uri": "https://localhost:8080/"
        },
        "outputId": "a5805cb0-fe53-48f2-9885-4aacf0072f5e"
      },
      "source": [
        "import numpy as np\n",
        "x = np.array(X)\n",
        "y = np.array(Y)\n",
        "print(len(X))\n",
        "print(len(Y))\n",
        "print(x.shape)\n",
        "print(y.shape)"
      ],
      "execution_count": 79,
      "outputs": [
        {
          "output_type": "stream",
          "text": [
            "79\n",
            "79\n",
            "(79, 200, 180)\n",
            "(79,)\n"
          ],
          "name": "stdout"
        }
      ]
    },
    {
      "cell_type": "code",
      "metadata": {
        "id": "LTCzFU1Fc6TZ"
      },
      "source": [
        "y = y.reshape(79,1)"
      ],
      "execution_count": 80,
      "outputs": []
    },
    {
      "cell_type": "code",
      "metadata": {
        "id": "3YX8h_MdblwQ"
      },
      "source": [
        "x = x.reshape(79,-1)"
      ],
      "execution_count": 81,
      "outputs": []
    },
    {
      "cell_type": "code",
      "metadata": {
        "id": "A94O1mF5btU2",
        "colab": {
          "base_uri": "https://localhost:8080/"
        },
        "outputId": "fca9fbfe-8d7a-4240-ce71-9fc759f51dda"
      },
      "source": [
        "print(x.shape)"
      ],
      "execution_count": 82,
      "outputs": [
        {
          "output_type": "stream",
          "text": [
            "(79, 36000)\n"
          ],
          "name": "stdout"
        }
      ]
    },
    {
      "cell_type": "code",
      "metadata": {
        "id": "BANC-iFkVdQB",
        "colab": {
          "base_uri": "https://localhost:8080/"
        },
        "outputId": "e268e56a-51d5-46dd-c47a-4c55dd074233"
      },
      "source": [
        "from sklearn.decomposition import PCA \n",
        "\n",
        "pca = PCA(n_components = 2)\n",
        "\n",
        "pca.fit(x)"
      ],
      "execution_count": 83,
      "outputs": [
        {
          "output_type": "execute_result",
          "data": {
            "text/plain": [
              "PCA(copy=True, iterated_power='auto', n_components=2, random_state=None,\n",
              "    svd_solver='auto', tol=0.0, whiten=False)"
            ]
          },
          "metadata": {
            "tags": []
          },
          "execution_count": 83
        }
      ]
    },
    {
      "cell_type": "code",
      "metadata": {
        "id": "Q4An2hPTSyv6"
      },
      "source": [
        "X_red = []\n",
        "\n",
        "x = list(x)\n",
        "\n",
        "for image in x:\n",
        "  image = np.array(image)\n",
        "  image = image.reshape(1,-1)\n",
        "  trans = pca.transform(image)\n",
        "  X_red.append(trans)"
      ],
      "execution_count": 84,
      "outputs": []
    },
    {
      "cell_type": "code",
      "metadata": {
        "id": "vehbX1_DcUCE",
        "colab": {
          "base_uri": "https://localhost:8080/"
        },
        "outputId": "c93eb9bf-5c10-42ec-ab31-aa4a41d05e11"
      },
      "source": [
        "print(X_red)"
      ],
      "execution_count": 85,
      "outputs": [
        {
          "output_type": "stream",
          "text": [
            "[array([[-571.72424017, 5356.57350325]]), array([[-539.65190336, 5669.28583431]]), array([[-503.82091894, 5782.15431109]]), array([[-773.43003797, 5568.68759889]]), array([[-808.16408287, 5724.13338408]]), array([[-819.22160943, 5844.06657503]]), array([[-732.82378292, 5804.01232465]]), array([[-671.70539611, 5870.75731659]]), array([[-655.33849181, 5883.49270196]]), array([[-647.934151  , 5915.95072168]]), array([[-638.51604436, 5771.5728521 ]]), array([[-657.06400085, 5781.90569609]]), array([[-654.57500074, 5849.17424929]]), array([[-648.34316395, 5917.76541143]]), array([[-691.78301899, 5880.22864372]]), array([[-667.51104397, 5863.70032859]]), array([[-541.62452449, 5577.65050806]]), array([[-490.02644332, 5604.98252382]]), array([[-622.96868834, 5588.1217895 ]]), array([[-609.82878838, 5495.71481511]]), array([[-8864.77529656, -4853.05774097]]), array([[-8939.34290409, -4781.38671282]]), array([[-8863.66504349, -5006.21388239]]), array([[-8758.4605802 , -4965.10650869]]), array([[-8819.25035836, -4967.51675183]]), array([[-8939.80497873, -4968.74365967]]), array([[-8916.43158407, -4961.28278967]]), array([[-8914.82453103, -4827.41533045]]), array([[-8769.69939149, -5131.97598031]]), array([[-8689.70766083, -5162.70510892]]), array([[-8582.5399401 , -5304.39363601]]), array([[-8612.72488768, -5276.35163884]]), array([[-8600.27928263, -5309.49884893]]), array([[-8611.78751805, -5293.91267313]]), array([[-8593.07874164, -5158.8199985 ]]), array([[-8540.34659984, -5151.35084081]]), array([[-8633.78944956, -5230.32854456]]), array([[-8444.92667604, -5014.4034145 ]]), array([[-8638.04908559, -5247.6882054 ]]), array([[-8371.99004456, -4906.336998  ]]), array([[ 9707.75203649, -2899.55839586]]), array([[10298.14183365, -3900.09713482]]), array([[10327.72599785, -3789.06682887]]), array([[10316.972761  , -3857.70457257]]), array([[10284.70487082, -3877.02474833]]), array([[10100.32233722, -3918.19633948]]), array([[10088.51632297, -3845.7741406 ]]), array([[ 9972.96461378, -3858.17855476]]), array([[10076.51543329, -3838.63762978]]), array([[10047.54141446, -3853.91056553]]), array([[10175.69021078, -3842.41308193]]), array([[10213.84174489, -3516.67179807]]), array([[ 9742.59970639, -3756.577404  ]]), array([[10156.41427382, -3487.98834702]]), array([[10266.8210921 , -3644.98366678]]), array([[10172.5711632 , -3510.36319767]]), array([[10309.50983203, -3666.60029721]]), array([[10324.81141643, -3721.26662101]]), array([[10355.70814053, -3838.93896792]]), array([[10312.46703155, -3819.26700832]]), array([[-1416.18531357,  2728.2410569 ]]), array([[-939.23806518, 3238.25112215]]), array([[-835.04816591, 3292.02608126]]), array([[-683.57814865, 3169.88921889]]), array([[-500.22368045, 3166.94881703]]), array([[-435.54644105, 3058.11497909]]), array([[-397.8801912 , 3052.59574381]]), array([[-464.87943729, 3065.66584856]]), array([[-671.50832723, 3164.16574936]]), array([[-995.72858935, 3367.60665696]]), array([[-1397.37555102,  3146.35896271]]), array([[-909.63304763, 3377.79322979]]), array([[-1278.58298166,  3222.04447292]]), array([[-1268.24837975,  3324.57405351]]), array([[-945.92265434, 3415.33390653]]), array([[-866.0129445 , 3407.47204011]]), array([[-714.48876658, 3364.33007033]]), array([[-768.20791896, 3351.06936799]]), array([[-711.77374246, 3299.29609777]])]\n"
          ],
          "name": "stdout"
        }
      ]
    },
    {
      "cell_type": "code",
      "metadata": {
        "id": "-TUozDJUk_xT"
      },
      "source": [
        "x1 = [i[0][0]/1000 for i in X_red[:20]]\n",
        "y1 = [i[0][1]/1000 for i in X_red[:20]]\n",
        "\n",
        "x2 = [i[0][0]/1000 for i in X_red[20:40]]\n",
        "y2 = [i[0][1]/1000 for i in X_red[20:40]]\n",
        "\n",
        "x3 = [i[0][0]/1000 for i in X_red[40:60]]\n",
        "y3 = [i[0][1]/1000 for i in X_red[40:60]]\n",
        "\n",
        "x4 = [i[0][0]/1000 for i in X_red[60:]]\n",
        "y4 = [i[0][1]/1000 for i in X_red[60:]]"
      ],
      "execution_count": 86,
      "outputs": []
    },
    {
      "cell_type": "code",
      "metadata": {
        "id": "sN7TY0OQliOK",
        "colab": {
          "base_uri": "https://localhost:8080/"
        },
        "outputId": "847a0db1-b742-43f8-9f6a-7f9c9dec6619"
      },
      "source": [
        "print(x1)\n",
        "print(x2)\n",
        "print(x3)\n",
        "print(x4)\n",
        "print('_'*20)\n",
        "print(y1)\n",
        "print(y2)\n",
        "print(y3)\n",
        "print(y4)"
      ],
      "execution_count": 87,
      "outputs": [
        {
          "output_type": "stream",
          "text": [
            "[-0.5717242401749856, -0.5396519033572509, -0.5038209189447165, -0.7734300379715785, -0.8081640828716379, -0.8192216094305885, -0.7328237829219288, -0.6717053961128435, -0.6553384918139774, -0.6479341509996103, -0.6385160443613765, -0.657064000854594, -0.6545750007376707, -0.6483431639492216, -0.691783018988131, -0.667511043967257, -0.5416245244871213, -0.4900264433189482, -0.622968688339829, -0.6098287883757596]\n",
            "[-8.864775296557594, -8.939342904094849, -8.86366504349387, -8.758460580197914, -8.819250358359858, -8.93980497872924, -8.916431584071125, -8.91482453102537, -8.769699391489892, -8.689707660829045, -8.582539940102562, -8.61272488767555, -8.600279282625019, -8.611787518046196, -8.593078741636539, -8.54034659983899, -8.633789449557103, -8.444926676042616, -8.638049085589325, -8.371990044562377]\n",
            "[9.707752036491385, 10.298141833654784, 10.327725997849827, 10.31697276100449, 10.284704870824218, 10.100322337222064, 10.088516322971525, 9.972964613781413, 10.07651543328961, 10.047541414458934, 10.175690210781584, 10.21384174489216, 9.742599706387551, 10.156414273824481, 10.266821092096434, 10.172571163199533, 10.309509832031095, 10.324811416434397, 10.355708140532675, 10.312467031550012]\n",
            "[-1.4161853135683646, -0.9392380651841222, -0.8350481659074048, -0.6835781486494394, -0.5002236804467194, -0.4355464410491495, -0.39788019119746204, -0.4648794372905104, -0.6715083272273421, -0.995728589347578, -1.3973755510239485, -0.9096330476273372, -1.2785829816599457, -1.268248379749845, -0.9459226543399403, -0.8660129444993122, -0.7144887665830909, -0.7682079189601405, -0.7117737424623096]\n",
            "____________________\n",
            "[5.3565735032540545, 5.6692858343133885, 5.782154311090933, 5.568687598885574, 5.724133384084609, 5.844066575034143, 5.80401232464829, 5.870757316588651, 5.883492701960278, 5.915950721684753, 5.771572852102066, 5.781905696091104, 5.849174249291471, 5.917765411432703, 5.880228643717979, 5.86370032859057, 5.577650508062825, 5.604982523815588, 5.588121789499825, 5.495714815105231]\n",
            "[-4.8530577409651485, -4.7813867128201055, -5.006213882385753, -4.965106508694047, -4.967516751826729, -4.9687436596743835, -4.9612827896669485, -4.8274153304452225, -5.131975980313307, -5.162705108917191, -5.304393636012874, -5.276351638837451, -5.309498848934853, -5.293912673125729, -5.1588199985026275, -5.151350840809346, -5.230328544561991, -5.014403414500742, -5.247688205402446, -4.906336997995078]\n",
            "[-2.899558395857047, -3.900097134820997, -3.789066828873498, -3.8577045725698604, -3.87702474832937, -3.918196339478076, -3.845774140598631, -3.858178554758181, -3.8386376297825544, -3.8539105655294716, -3.842413081934447, -3.516671798068235, -3.7565774039968076, -3.4879883470153095, -3.6449836667770583, -3.5103631976722127, -3.666600297212599, -3.7212666210144785, -3.838938967922298, -3.8192670083213787]\n",
            "[2.728241056896707, 3.238251122153137, 3.292026081255421, 3.1698892188895744, 3.166948817034407, 3.05811497908776, 3.0525957438056954, 3.0656658485637616, 3.1641657493590905, 3.3676066569641763, 3.146358962708331, 3.3777932297890145, 3.2220444729233506, 3.3245740535119586, 3.415333906531562, 3.407472040105822, 3.3643300703271595, 3.351069367994173, 3.2992960977694152]\n"
          ],
          "name": "stdout"
        }
      ]
    },
    {
      "cell_type": "code",
      "metadata": {
        "id": "uGTsEM_4kno8",
        "colab": {
          "base_uri": "https://localhost:8080/",
          "height": 279
        },
        "outputId": "85346d09-1ea9-4f09-edc3-88985d6d7fc4"
      },
      "source": [
        "import matplotlib.pyplot as plt\n",
        "\n",
        "plt.scatter(x1, y1, c =\"pink\", \n",
        "            linewidths = 2, \n",
        "            marker =\"s\", \n",
        "            edgecolor =\"green\", \n",
        "            s = 50)\n",
        "  \n",
        "plt.scatter(x2, y2, c =\"yellow\",\n",
        "            linewidths = 2,\n",
        "            marker =\"^\", \n",
        "            edgecolor =\"red\", \n",
        "            s = 200)\n",
        "\n",
        "plt.scatter(x3, y3, c =\"red\",\n",
        "            linewidths = 2,\n",
        "            marker =\"^\", \n",
        "            edgecolor =\"blue\", \n",
        "            s = 100)\n",
        "\n",
        "plt.scatter(x4, y4, c =\"red\",\n",
        "            linewidths = 2,\n",
        "            marker =\"s\", \n",
        "            edgecolor =\"blue\", \n",
        "            s = 200)\n",
        "\n",
        "\n",
        "plt.xlabel(\"X-axis\")\n",
        "plt.ylabel(\"Y-axis\")\n",
        "plt.show()"
      ],
      "execution_count": 88,
      "outputs": [
        {
          "output_type": "display_data",
          "data": {
            "image/png": "[encoded data removed]",
            "text/plain": [
              "<Figure size 432x288 with 1 Axes>"
            ]
          },
          "metadata": {
            "tags": [],
            "needs_background": "light"
          }
        }
      ]
    },
    {
      "cell_type": "code",
      "metadata": {
        "id": "IxTJUVcQdBc8"
      },
      "source": [
        "X_red = np.array(X_red)"
      ],
      "execution_count": 90,
      "outputs": []
    },
    {
      "cell_type": "code",
      "metadata": {
        "id": "CONINlULdI_w"
      },
      "source": [
        "X_red = X_red.reshape(79,-1)"
      ],
      "execution_count": 91,
      "outputs": []
    },
    {
      "cell_type": "code",
      "metadata": {
        "id": "z7rhgBB3ow_D"
      },
      "source": [
        "from sklearn.tree import DecisionTreeClassifier\n",
        "\n",
        "dtc = DecisionTreeClassifier(random_state= 0)"
      ],
      "execution_count": 100,
      "outputs": []
    },
    {
      "cell_type": "code",
      "metadata": {
        "id": "E9DGBitdczHb",
        "colab": {
          "base_uri": "https://localhost:8080/"
        },
        "outputId": "fb3262df-2781-44e1-995b-be754272bfb1"
      },
      "source": [
        "dtc.fit(X_red,Y)"
      ],
      "execution_count": 101,
      "outputs": [
        {
          "output_type": "execute_result",
          "data": {
            "text/plain": [
              "DecisionTreeClassifier(ccp_alpha=0.0, class_weight=None, criterion='gini',\n",
              "                       max_depth=None, max_features=None, max_leaf_nodes=None,\n",
              "                       min_impurity_decrease=0.0, min_impurity_split=None,\n",
              "                       min_samples_leaf=1, min_samples_split=2,\n",
              "                       min_weight_fraction_leaf=0.0, presort='deprecated',\n",
              "                       random_state=0, splitter='best')"
            ]
          },
          "metadata": {
            "tags": []
          },
          "execution_count": 101
        }
      ]
    },
    {
      "cell_type": "markdown",
      "metadata": {
        "id": "fIXgCWu9kcJv"
      },
      "source": [
        "Classes {0:'9336923',1:'ambraw',2:'anpage',3:'cwang'}"
      ]
    },
    {
      "cell_type": "code",
      "metadata": {
        "colab": {
          "base_uri": "https://localhost:8080/"
        },
        "id": "oMoY62lEltrI",
        "outputId": "1bc9214a-dbd4-4890-b02a-461fed00cd9d"
      },
      "source": [
        "test_image = cv2.imread('/content/drive/MyDrive/Projects/PCA/cwang.12.jpg',0)\n",
        "\n",
        "test_image = test_image.reshape(1,-1)\n",
        "print(test_image.shape)"
      ],
      "execution_count": 102,
      "outputs": [
        {
          "output_type": "stream",
          "text": [
            "(1, 36000)\n"
          ],
          "name": "stdout"
        }
      ]
    },
    {
      "cell_type": "code",
      "metadata": {
        "colab": {
          "base_uri": "https://localhost:8080/"
        },
        "id": "tdE4h8R7mIFj",
        "outputId": "d764ab61-bd09-4a03-8fe3-f1414b66ce92"
      },
      "source": [
        "test_trans = pca.transform(test_image)\n",
        "\n",
        "print(test_trans)"
      ],
      "execution_count": 103,
      "outputs": [
        {
          "output_type": "stream",
          "text": [
            "[[-770.0597161  3144.09315973]]\n"
          ],
          "name": "stdout"
        }
      ]
    },
    {
      "cell_type": "code",
      "metadata": {
        "colab": {
          "base_uri": "https://localhost:8080/"
        },
        "id": "JWEmFGRghIbB",
        "outputId": "80a9cc1d-a5e2-43f4-f8fe-d6f60b8f6b6b"
      },
      "source": [
        "print(dtc.predict(test_trans))"
      ],
      "execution_count": 106,
      "outputs": [
        {
          "output_type": "stream",
          "text": [
            "[3]\n"
          ],
          "name": "stdout"
        }
      ]
    },
    {
      "cell_type": "code",
      "metadata": {
        "id": "bPA2N9j6n6PU"
      },
      "source": [
        ""
      ],
      "execution_count": null,
      "outputs": []
    }
  ]
}